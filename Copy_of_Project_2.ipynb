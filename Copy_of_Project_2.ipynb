{
  "nbformat": 4,
  "nbformat_minor": 0,
  "metadata": {
    "colab": {
      "provenance": [],
      "include_colab_link": true
    },
    "kernelspec": {
      "name": "python3",
      "display_name": "Python 3"
    },
    "language_info": {
      "name": "python"
    }
  },
  "cells": [
    {
      "cell_type": "markdown",
      "metadata": {
        "id": "view-in-github",
        "colab_type": "text"
      },
      "source": [
        "<a href=\"https://colab.research.google.com/github/rohindth-08/Matrix-Calculator-/blob/main/Copy_of_Project_2.ipynb\" target=\"_parent\"><img src=\"https://colab.research.google.com/assets/colab-badge.svg\" alt=\"Open In Colab\"/></a>"
      ]
    },
    {
      "cell_type": "markdown",
      "source": [
        "Intermediate: Matrix Calculator – Develop a program that\n",
        "performs addition, multiplication, determinant,\n",
        "transpose and inverse operations on matrices. (Project-2)"
      ],
      "metadata": {
        "id": "C0Xk_a_R7n1Q"
      }
    },
    {
      "cell_type": "code",
      "source": [
        "import numpy as np"
      ],
      "metadata": {
        "id": "5E2XNwZg2yso"
      },
      "execution_count": null,
      "outputs": []
    },
    {
      "cell_type": "code",
      "source": [
        "def add_mtrx(matA , matB):\n",
        "  return np.add(matA , matB)"
      ],
      "metadata": {
        "id": "QwGt4IKk25bg"
      },
      "execution_count": null,
      "outputs": []
    },
    {
      "cell_type": "code",
      "source": [
        "def mul_mtrx(matA , matB):\n",
        "  return np.dot(matA , matB)"
      ],
      "metadata": {
        "id": "QwNRyzg43TEi"
      },
      "execution_count": null,
      "outputs": []
    },
    {
      "cell_type": "code",
      "source": [
        "def det_mtrx(matA):\n",
        "  return np.linalg.det(matA)"
      ],
      "metadata": {
        "id": "mYDPaqtR3g2D"
      },
      "execution_count": null,
      "outputs": []
    },
    {
      "cell_type": "code",
      "source": [
        "def trans_mtrx(matA):\n",
        "  return np.transpose(matA)"
      ],
      "metadata": {
        "id": "I3nmq1ln4C96"
      },
      "execution_count": null,
      "outputs": []
    },
    {
      "cell_type": "code",
      "source": [
        "def inverse_mtrx(matA):\n",
        "  if det_mtrx(matA) == 0 :\n",
        "    return \"Inverse is not possible\"\n",
        "  return np.linalg.inv(matA)"
      ],
      "metadata": {
        "id": "iLaVD7U34NeW"
      },
      "execution_count": null,
      "outputs": []
    },
    {
      "cell_type": "code",
      "source": [
        "\n",
        "matA = np.array([[1,2],[3,4]])\n",
        "matB = np.array([[5,6],[7,8]])\n",
        "\n",
        "print(matA)\n",
        "print(\"----------\")\n",
        "print(matB)\n",
        "\n",
        "\n",
        "print(\"Addition of two matrices: \")\n",
        "print(add_mtrx(matA , matB))\n",
        "print(\"----------\")\n",
        "print(\"Multipication of the two matrices: \")\n",
        "print(mul_mtrx(matA , matB))\n",
        "print(\"----------\")\n",
        "\n",
        "\n",
        "print(\"Determinant of matrix A :\")\n",
        "print(det_mtrx(matA))\n",
        "print(\"----------\")\n",
        "print(\"Determinant of matrix B :\")\n",
        "print(det_mtrx(matB))\n",
        "print(\"----------\")\n",
        "\n",
        "print(\"Transpose of matrix A : \")\n",
        "print(trans_mtrx(matA))\n",
        "print(\"----------\")\n",
        "print(\"Transpose of matrix B\")\n",
        "print(trans_mtrx(matB))\n",
        "print(\"----------\")\n",
        "\n",
        "\n",
        "print(\"Inverse of the Matrix A :\")\n",
        "print(inverse_mtrx(matA))\n",
        "print(\"----------\")\n",
        "print(\"Inverse of the Matrix B :\")\n",
        "print(inverse_mtrx(matB))"
      ],
      "metadata": {
        "colab": {
          "base_uri": "https://localhost:8080/"
        },
        "id": "4IYdITjv4-Me",
        "outputId": "dd542636-4368-407f-c564-d3c126cde5ce"
      },
      "execution_count": null,
      "outputs": [
        {
          "output_type": "stream",
          "name": "stdout",
          "text": [
            "[[1 2]\n",
            " [3 4]]\n",
            "----------\n",
            "[[5 6]\n",
            " [7 8]]\n",
            "Addition of two matrices: \n",
            "[[ 6  8]\n",
            " [10 12]]\n",
            "----------\n",
            "Multipication of the two matrices: \n",
            "[[19 22]\n",
            " [43 50]]\n",
            "----------\n",
            "Determinant of matrix A :\n",
            "-2.0000000000000004\n",
            "----------\n",
            "Determinant of matrix B :\n",
            "-2.000000000000005\n",
            "----------\n",
            "Transpose of matrix A : \n",
            "[[1 3]\n",
            " [2 4]]\n",
            "----------\n",
            "Transpose of matrix B\n",
            "[[5 7]\n",
            " [6 8]]\n",
            "----------\n",
            "Inverse of the Matrix A :\n",
            "[[-2.   1. ]\n",
            " [ 1.5 -0.5]]\n",
            "----------\n",
            "Inverse of the Matrix B :\n",
            "[[-4.   3. ]\n",
            " [ 3.5 -2.5]]\n"
          ]
        }
      ]
    },
    {
      "cell_type": "code",
      "source": [],
      "metadata": {
        "id": "qJCHR9ZO6g1L"
      },
      "execution_count": null,
      "outputs": []
    }
  ]
}